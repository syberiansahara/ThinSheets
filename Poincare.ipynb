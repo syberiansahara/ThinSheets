{
 "cells": [
  {
   "cell_type": "markdown",
   "metadata": {},
   "source": [
    "# Poincare section"
   ]
  },
  {
   "cell_type": "markdown",
   "metadata": {},
   "source": [
    "Importing libraries, declaring constants"
   ]
  },
  {
   "cell_type": "code",
   "execution_count": 3,
   "metadata": {
    "collapsed": false,
    "scrolled": true
   },
   "outputs": [],
   "source": [
    "import numpy as np\n",
    "import scipy as sp\n",
    "import math\n",
    "from math import atan, sin, cos, acosh, exp, log, cosh, tanh, pi\n",
    "import os\n",
    "from os import mkdir, makedirs\n",
    "\n",
    "delta = 1.0\n",
    "eps = 1e-7 #for energy conservation in Runge-Kutta method"
   ]
  },
  {
   "cell_type": "markdown",
   "metadata": {},
   "source": [
    "Defining field components"
   ]
  },
  {
   "cell_type": "code",
   "execution_count": 4,
   "metadata": {
    "collapsed": true
   },
   "outputs": [],
   "source": [
    "def Field(x, y, z):\n",
    "         \n",
    "    field_components = dict()\n",
    "    \n",
    "    field_components['bx'] = bx0 * tanh(z / delta)  \n",
    "    field_components['bz'] = bn\n",
    "    \n",
    "    if fieldtype == 'constant' or fieldtype == 'shearless':\n",
    "        field_components['by'] = by0\n",
    "        \n",
    "    elif fieldtype == 'bell':\n",
    "        if abs(z) < delta:\n",
    "            field_components['by'] = by0 * cos( (z / delta) * (pi / 2.0))\n",
    "        else:\n",
    "            field_components['by'] = 0.0\n",
    "    \n",
    "    elif fieldtype == 'antisymm':\n",
    "        if abs(z) < delta:\n",
    "            field_components['by'] = - by0 * sin( z * pi / delta)\n",
    "        else:\n",
    "            field_components['by'] = 0.0\n",
    "\n",
    "    return field_components"
   ]
  },
  {
   "cell_type": "markdown",
   "metadata": {},
   "source": [
    "Defining derivative functions for Runge-Kutta method"
   ]
  },
  {
   "cell_type": "code",
   "execution_count": 5,
   "metadata": {
    "collapsed": true
   },
   "outputs": [],
   "source": [
    "def f(b, a):\n",
    "        \n",
    "    q = np.empty((6,))\n",
    "    q[0] = a[3]\n",
    "    q[1] = a[4]\n",
    "    q[2] = a[5]\n",
    "    q[3] = delta * (b['bz']*a[4] - b['by']*a[5])\n",
    "    q[4] = delta * (b['bx']*a[5] - b['bz']*a[3])\n",
    "    q[5] = delta * (b['by']*a[3] - b['bx']*a[4]) \n",
    "    \n",
    "    return q"
   ]
  },
  {
   "cell_type": "markdown",
   "metadata": {},
   "source": [
    "Defining Runge-Kutta method"
   ]
  },
  {
   "cell_type": "code",
   "execution_count": 6,
   "metadata": {
    "collapsed": false
   },
   "outputs": [],
   "source": [
    "def RK4_Poinc(f, a0):\n",
    "    Cy = a0[4]  + delta*bn*a0[0] - delta**2 * bx0 * log( cosh( a0[2] / delta ))\n",
    "    a0[0] = a0[0] - Cy / (bn*delta) #shift of coordinates    \n",
    "    \n",
    "    \n",
    "    RK = a0.reshape((1, 6)) #trajectory array\n",
    "    times = [0.0] #array with times\n",
    "    Poinc = np.zeros((pcountmax, 2)) #array with found poincare points for the current particle\n",
    "    ZeroIndices = [] #indices of poincare points in trajectory array\n",
    "    \n",
    "    en0 = (a0[3]**2 + a0[4]**2 + a0[5]**2)**0.5 #initial energy equals 1.0\n",
    "    \n",
    "    t = 0.0 #time\n",
    "    i = 0 #current trajectory point\n",
    "    idiv = 0 #number of times division dt/2 was used        \n",
    "    pcount = 0 #number of found points suitable for Poincare section\n",
    "    toofar = False #whether the particle is too far from the layer\n",
    "    \n",
    "    OldRK = a0    \n",
    "       \n",
    "    while t < tfinal:\n",
    "        \n",
    "        ##==============Runge-Kutta step===============\n",
    "        \n",
    "        dt = dt0\n",
    "        for s in range(100):  \n",
    "            \n",
    "            b = Field(OldRK[0], OldRK[1], OldRK[2])\n",
    "            k1 = dt * f(b, OldRK)\n",
    "            \n",
    "            b = Field(OldRK[0] + 0.5*k1[0], OldRK[1] + 0.5*k1[1], OldRK[2] + 0.5*k1[2])\n",
    "            k2 = dt * f(b, OldRK + 0.5*k1)\n",
    "            \n",
    "            b = Field(OldRK[0] + 0.5*k2[0], OldRK[1] + 0.5*k2[1], OldRK[2] + 0.5*k2[2])\n",
    "            k3 = dt * f(b, OldRK + 0.5*k2) \n",
    "            \n",
    "            b = Field(OldRK[0] + k3[0], OldRK[1] + k3[1], OldRK[2] + k3[2])\n",
    "            k4 = dt * f(b, OldRK + k3) \n",
    "            \n",
    "            NewRK = OldRK + ( k1 + 2.0 * ( k2 + k3 ) + k4 ) / 6.0\n",
    "            en = (NewRK[3]**2 + NewRK[4]**2 + NewRK[5]**2)**0.5\n",
    "            \n",
    "            if abs(en - en0) < eps: #energy conservation control\n",
    "                break  \n",
    "            dt = dt / 2.0\n",
    "            idiv +=1\n",
    "            \n",
    "        RK = np.vstack((RK, NewRK)) #adding new line to trajectory array\n",
    "        t +=dt\n",
    "        times.append(t)\n",
    "            \n",
    "        ##=================== Poincare==================\n",
    "        \n",
    "        if OldRK[2] * NewRK[2] < 0: #z coordinate sign change condition\n",
    "            \n",
    "            ZeroIndices.append(i)\n",
    "            \n",
    "            if pcount < pcountmax:        \n",
    "                                    \n",
    "                #linear approximation of bn*delta*(x)\n",
    "                Poinc[pcount, 0] = bn * delta * (OldRK[0] + OldRK[2] * (NewRK[0] - OldRK[0]) / \\\n",
    "                                                 (OldRK[2] - NewRK[2]))\n",
    "                \n",
    "                #linear approximation of Vx\n",
    "                Poinc[pcount, 1] = OldRK[3] + OldRK[2] * (NewRK[3] - OldRK[3]) / (OldRK[2] - NewRK[2])\n",
    "                                    \n",
    "                pcount +=1\n",
    "        \n",
    "        ##============cycle break conditions============\n",
    "        \n",
    "        if pcount == pcountmax: #enough poincare points\n",
    "            break\n",
    "      \n",
    "        if abs(NewRK[2]) > toofarcondition: #particle too far from the layer\n",
    "            toofar = True\n",
    "            break\n",
    "              \n",
    "        ##==============================================\n",
    "        \n",
    "        OldRK = NewRK\n",
    "        i +=1\n",
    "    \n",
    "    length = len(times)\n",
    "    times = np.asarray(times).reshape((length, 1))\n",
    "    RKt = np.hstack((RK, times)) #array with Runge-Kutta results and times\n",
    "    \n",
    "    print 'p =', p\n",
    "    print 'Initial approximation (x0, y0, z0, Vx0, Vy0, Vz0) = (', round(a0[0], 5), ',', round(a0[1], 5), ',', round(a0[2], 5), \\\n",
    "          ',', round(a0[3], 5), ',', round(a0[4], 5), ',', round(a0[5], 5), ')'\n",
    "    print 'Particle too far from the layer =', toofar\n",
    "    print 'Initial energy =', en0, ', final energy =', en\n",
    "    print 'Time =', t, ', Total calculated points =', i+1\n",
    "    print 'Total Poincare points =', len(ZeroIndices), '/', pcountmax\n",
    "    #print 'Number of times division dt/2 was used =', idiv\n",
    "    print '\\n'\n",
    "   \n",
    "    return RKt, Poinc, ZeroIndices "
   ]
  },
  {
   "cell_type": "markdown",
   "metadata": {},
   "source": [
    "Setting"
   ]
  },
  {
   "cell_type": "code",
   "execution_count": 7,
   "metadata": {
    "collapsed": true
   },
   "outputs": [],
   "source": [
    "root = r'C:\\Users\\syber\\Desktop\\mfs'"
   ]
  },
  {
   "cell_type": "code",
   "execution_count": 8,
   "metadata": {
    "collapsed": false
   },
   "outputs": [],
   "source": [
    "dt0 = 0.01\n",
    "tfinal = 3000.0\n",
    "toofarcondition = 12.0 #condition of whether the particle is too far from the layer\n",
    "pcountmax = 75 # maximum Poincare points\n",
    "maxpos = 60 #number of different positions +1, must be even\n",
    "maxspeed = maxpos #number of different initial Vx speeds +1, must be equal to maxpos\n",
    "h = 2.0 / maxspeed\n",
    "pmax = int(maxpos * maxspeed * pi / 4)"
   ]
  },
  {
   "cell_type": "markdown",
   "metadata": {},
   "source": [
    "## One particle"
   ]
  },
  {
   "cell_type": "code",
   "execution_count": 10,
   "metadata": {
    "collapsed": false,
    "scrolled": true
   },
   "outputs": [
    {
     "ename": "ValueError",
     "evalue": "negative number cannot be raised to a fractional power",
     "output_type": "error",
     "traceback": [
      "\u001b[1;31m---------------------------------------------------------------------------\u001b[0m",
      "\u001b[1;31mValueError\u001b[0m                                Traceback (most recent call last)",
      "\u001b[1;32m<ipython-input-10-c6d6f7a76c30>\u001b[0m in \u001b[0;36m<module>\u001b[1;34m()\u001b[0m\n\u001b[0;32m     33\u001b[0m \u001b[0ma03\u001b[0m \u001b[1;33m=\u001b[0m \u001b[1;33m(\u001b[0m\u001b[1;33m-\u001b[0m\u001b[1;36m1.0\u001b[0m \u001b[1;33m+\u001b[0m \u001b[1;36m2.0\u001b[0m \u001b[1;33m*\u001b[0m \u001b[1;33m(\u001b[0m\u001b[0mspeed\u001b[0m \u001b[1;33m*\u001b[0m \u001b[1;36m1.0\u001b[0m \u001b[1;33m/\u001b[0m \u001b[0mmaxspeed\u001b[0m\u001b[1;33m)\u001b[0m\u001b[1;33m)\u001b[0m \u001b[1;31m#distribution of Vx\u001b[0m\u001b[1;33m\u001b[0m\u001b[0m\n\u001b[0;32m     34\u001b[0m \u001b[0ma04\u001b[0m \u001b[1;33m=\u001b[0m \u001b[1;33m-\u001b[0m \u001b[0mbn\u001b[0m \u001b[1;33m*\u001b[0m \u001b[0mdelta\u001b[0m \u001b[1;33m*\u001b[0m \u001b[0ma00\u001b[0m\u001b[1;33m\u001b[0m\u001b[0m\n\u001b[1;32m---> 35\u001b[1;33m \u001b[0ma05\u001b[0m \u001b[1;33m=\u001b[0m \u001b[1;33m(\u001b[0m\u001b[1;36m1.0\u001b[0m \u001b[1;33m-\u001b[0m \u001b[0ma03\u001b[0m\u001b[1;33m**\u001b[0m\u001b[1;36m2\u001b[0m \u001b[1;33m-\u001b[0m \u001b[0ma04\u001b[0m\u001b[1;33m**\u001b[0m\u001b[1;36m2\u001b[0m\u001b[1;33m)\u001b[0m\u001b[1;33m**\u001b[0m\u001b[1;36m0.5\u001b[0m \u001b[1;31m#so that the initial energy equals 1.0, nesessarily > 0\u001b[0m\u001b[1;33m\u001b[0m\u001b[0m\n\u001b[0m\u001b[0;32m     36\u001b[0m \u001b[1;33m\u001b[0m\u001b[0m\n\u001b[0;32m     37\u001b[0m \u001b[0ma0\u001b[0m \u001b[1;33m=\u001b[0m \u001b[0mnp\u001b[0m\u001b[1;33m.\u001b[0m\u001b[0marray\u001b[0m\u001b[1;33m(\u001b[0m\u001b[1;33m[\u001b[0m\u001b[0ma00\u001b[0m\u001b[1;33m,\u001b[0m \u001b[0ma01\u001b[0m\u001b[1;33m,\u001b[0m \u001b[0ma02\u001b[0m\u001b[1;33m,\u001b[0m \u001b[0ma03\u001b[0m\u001b[1;33m,\u001b[0m \u001b[0ma04\u001b[0m\u001b[1;33m,\u001b[0m \u001b[0ma05\u001b[0m\u001b[1;33m]\u001b[0m\u001b[1;33m)\u001b[0m\u001b[1;33m\u001b[0m\u001b[0m\n",
      "\u001b[1;31mValueError\u001b[0m: negative number cannot be raised to a fractional power"
     ]
    }
   ],
   "source": [
    "#fieldtype = 'constant'\n",
    "#fieldtype = 'bell'\n",
    "#fieldtype = 'antisymm'\n",
    "fieldtype = 'shearless'\n",
    "bx0 = 1    \n",
    "by0 = 0.0\n",
    "bn = 0.10\n",
    "\n",
    "folder = r'%s\\%s\\by=%.2fbx\\bn=%.2fbx\\Poincare' %(root, fieldtype, by0, bn)\n",
    "#os.makedirs(folder)\n",
    "\n",
    "norm = (bx0**2 + by0**2 + bn**2)**0.5\n",
    "bx0 = bx0 / norm\n",
    "by0 = by0 / norm\n",
    "bn = bn / norm\n",
    "\n",
    "# logfile1 = open(r'%s\\parameters.txt' %(folder), 'w')\n",
    "# logfile1.write('Field type = %s\\nbx0 = %g\\nby0 = %g\\nbn = %g\\n\\ndelta = %g\\ndt0 = %g\\ntfinal = %g\\npcountmax = %g\\n\\n' \\\n",
    "#               %(fieldtype, bx0, by0, bn, delta, dt0, tfinal, pcountmax))\n",
    "# logfile1.write('maxpos = %g\\nmaxspeed = %g\\n' \\\n",
    "#               %(maxpos, maxspeed))\n",
    "# logfile1.write('number of particles, approximately = %g\\n\\n' %(pmax)) \n",
    "# logfile1.close() \n",
    "\n",
    "pos = 12\n",
    "speed = 6\n",
    "p = 375\n",
    "\n",
    "a00 = ( -1.0 + 2.0 * (pos * 1.0 / maxpos) )/ (bn * delta) #chosen x0*delta*bn from -1 exlusive to 1 exclusive\n",
    "a01 = 0.0\n",
    "a02 = 0.0   \n",
    "      \n",
    "a03 = (-1.0 + 2.0 * (speed * 1.0 / maxspeed)) #distribution of Vx                                                                        \n",
    "a04 = - bn * delta * a00\n",
    "a05 = (1.0 - a03**2 - a04**2)**0.5 #so that the initial energy equals 1.0, nesessarily > 0\n",
    "                        \n",
    "a0 = np.array([a00, a01, a02, a03, a04, a05])\n",
    "\n",
    "print 'pos =', pos, ', speed =', speed\n",
    "RKt, Poinc, ZeroIndices = RK4_Poinc(f, a0)            \n",
    " \n",
    "    \n",
    "# np.savetxt(r'%s\\Trajectory_%d.txt' %(folder, p), \\\n",
    "#                    RKt, ['%.4g','%.4g','%.4g','%.4g','%.4g','%.4g','%g',], delimiter=',') \n",
    "        \n",
    "# indicesfile = open(r'%s\\ZeroIndices_%d.txt' %(folder, p), 'w')\n",
    "# for i in ZeroIndices: \n",
    "#     indicesfile.write('%s\\n' %i)    \n",
    "# indicesfile.close()     \n",
    "        \n",
    "# np.savetxt(r'%s\\Poinc_%d.txt' %(folder, p), Poinc, '%.3g', delimiter=',')"
   ]
  },
  {
   "cell_type": "markdown",
   "metadata": {},
   "source": [
    "## Multiple particles (for Poincare section)"
   ]
  },
  {
   "cell_type": "code",
   "execution_count": null,
   "metadata": {
    "collapsed": false,
    "scrolled": false
   },
   "outputs": [],
   "source": [
    "for fieldtype in ['shearless', 'constant', 'bell', 'antisymm']:\n",
    "    if fieldtype == 'shearless':\n",
    "        by0s = [0.0]\n",
    "    else:\n",
    "        by0s = [0.25, 0.5, 0.75, 1]\n",
    "    for by0 in by0s:\n",
    "        theby0 = by0\n",
    "        for bn in [0.1, 0.2]:\n",
    "            \n",
    "            bx0 = 1   \n",
    "            by0 = theby0 \n",
    "\n",
    "            folder = r'%s\\%s\\by=%.2fbx\\bn=%.2fbx\\Poincare' %(root, fieldtype, by0, bn)\n",
    "            os.makedirs(folder)\n",
    "\n",
    "            norm = (bx0**2 + by0**2 + bn**2)**0.5\n",
    "            bx0 = bx0 / norm\n",
    "            by0 = by0 / norm\n",
    "            bn = bn / norm\n",
    "\n",
    "            logfile1 = open(r'%s\\parameters.txt' %(folder), 'w')\n",
    "            logfile1.write('Field type = %s\\nbx0 = %g\\nby0 = %g\\nbn = %g\\n\\ndelta = %g\\ndt0 = %g\\ntfinal = %g\\npcountmax = %g\\n\\n' \\\n",
    "                          %(fieldtype, bx0, by0, bn, delta, dt0, tfinal, pcountmax))\n",
    "            logfile1.write('maxpos = %g\\nmaxspeed = %g\\n' \\\n",
    "                          %(maxpos, maxspeed))\n",
    "            logfile1.write('number of particles, approximately = %g\\n\\n' %(pmax)) \n",
    "            logfile1.close() \n",
    "\n",
    "            Poincare = np.zeros((pcountmax, 2*pmax))\n",
    "\n",
    "            p = -1\n",
    "\n",
    "            for pos in range(1, maxpos): #pos in range(maxpos): current position from 0 to maxpos\n",
    "\n",
    "                a00 = ( -1.0 + 2.0 * (pos * 1.0 / maxpos) )/ (bn * delta) #chosen x0*delta*bn from -1 exlusive to 1 exclusive\n",
    "                a01 = 0.0\n",
    "                a02 = 0.0   \n",
    "\n",
    "                speed0 = maxspeed/2 - int(( 1.0 - (bn*delta*a00)**2)**0.5 / h)\n",
    "                if speed0 == 0:\n",
    "                    speed0 = 1    \n",
    "\n",
    "                for speed in range(speed0, maxspeed - speed0 + 1):\n",
    "                    p +=1     \n",
    "\n",
    "                    a03 = (-1.0 + 2.0 * (speed * 1.0 / maxspeed)) #distribution of Vx                                                                        \n",
    "                    a04 = - bn * delta * a00\n",
    "                    \n",
    "                    if a03**2 + a04**2 >= 1:\n",
    "                        continue\n",
    "                    \n",
    "                    a05 = (1.0 - a03**2 - a04**2)**0.5 #so that the initial energy equals 1.0, nesessarily > 0\n",
    "\n",
    "                    a0 = np.array([a00, a01, a02, a03, a04, a05])\n",
    "                        \n",
    "\n",
    "                    print 'pos =', pos, ', speed =', speed\n",
    "                    RKt, Poinc, ZeroIndices = RK4_Poinc(f, a0)            \n",
    "\n",
    "                    #np.savetxt(r'%s\\Trajectory_%d.txt' %(folder, p), \\\n",
    "                               #RKt, ['%.4g','%.4g','%.4g','%.4g','%.4g','%.4g','%g',], delimiter=',') \n",
    "\n",
    "                    #np.savetxt(r'%s\\Poinc_%d.txt' %(folder, p), Poinc, '%.3g', delimiter=',')\n",
    "\n",
    "                    Poincare[:, 2*p] = Poinc[:, 0]\n",
    "                    Poincare[:, 2*p + 1] = Poinc[:, 1] \n",
    "\n",
    "                    #indicesfile = open(r'%s\\ZeroIndices_%d.txt' %(folder, p), 'w')\n",
    "                    #for i in ZeroIndices: \n",
    "                        #indicesfile.write('%s\\n' %i)    \n",
    "                    #indicesfile.close()   \n",
    "\n",
    "\n",
    "            np.savetxt(r'%s\\Poincare.txt' %(folder), Poincare, '%.3g', delimiter=',')\n",
    "            np.savetxt(r'%s\\Poincare_N.txt' %(folder), Poincare[::2], '%.3g', delimiter=',')\n",
    "            np.savetxt(r'%s\\Poincare_S.txt' %(folder), Poincare[1::2], '%.3g', delimiter=',')\n",
    "\n",
    "            logfile3 = open(r'%s\\log.txt' %(folder), 'w')\n",
    "            logfile3.close()"
   ]
  }
 ],
 "metadata": {
  "kernelspec": {
   "display_name": "Python 2",
   "language": "python",
   "name": "python2"
  },
  "language_info": {
   "codemirror_mode": {
    "name": "ipython",
    "version": 2
   },
   "file_extension": ".py",
   "mimetype": "text/x-python",
   "name": "python",
   "nbconvert_exporter": "python",
   "pygments_lexer": "ipython2",
   "version": "2.7.11"
  }
 },
 "nbformat": 4,
 "nbformat_minor": 0
}

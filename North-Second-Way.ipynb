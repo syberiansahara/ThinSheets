{
 "cells": [
  {
   "cell_type": "markdown",
   "metadata": {},
   "source": [
    "# Quasiadiabatic invariant, launch from North"
   ]
  },
  {
   "cell_type": "markdown",
   "metadata": {},
   "source": [
    "Importing libraries, declaring constants and the signum function"
   ]
  },
  {
   "cell_type": "code",
   "execution_count": null,
   "metadata": {
    "collapsed": false,
    "scrolled": true
   },
   "outputs": [],
   "source": [
    "import numpy as np\n",
    "import scipy as sp\n",
    "from scipy.integrate import quad, simps\n",
    "import math\n",
    "from math import atan, sin, cos, acosh, exp, log, cosh, tanh, pi\n",
    "import os\n",
    "from os import mkdir, makedirs\n",
    "\n",
    "delta = 1.0\n",
    "eps = 1e-7 #for energy conservation in Runge-Kutta method\n",
    "\n",
    "def sign(a):\n",
    "    if a > 0.0:\n",
    "        return 1.0\n",
    "    elif a < 0.0:\n",
    "        return - 1.0\n",
    "    else:\n",
    "        return 0.0"
   ]
  },
  {
   "cell_type": "markdown",
   "metadata": {},
   "source": [
    "Defining field components"
   ]
  },
  {
   "cell_type": "code",
   "execution_count": null,
   "metadata": {
    "collapsed": false
   },
   "outputs": [],
   "source": [
    "def Field(x, y, z):\n",
    "         \n",
    "    field_components = dict()\n",
    "    \n",
    "    #field_components['bx'] = bx0 * tanh(z / delta)  \n",
    "    field_components['bx'] = bx0 * (z / delta) \n",
    "    field_components['bz'] = bn\n",
    "    \n",
    "    if fieldtype == 'constant' or fieldtype == 'shearless':\n",
    "        field_components['by'] = by0\n",
    "        \n",
    "    elif fieldtype == 'bell':\n",
    "        if abs(z) < delta:\n",
    "            field_components['by'] = by0 * cos( (z / delta) * (pi / 2.0))\n",
    "        else:\n",
    "            field_components['by'] = 0.0\n",
    "    \n",
    "    elif fieldtype == 'antisymm':\n",
    "        if abs(z) < delta:\n",
    "            field_components['by'] = - by0 * sin( z * pi / delta)\n",
    "        else:\n",
    "            field_components['by'] = 0.0\n",
    "\n",
    "    return field_components"
   ]
  },
  {
   "cell_type": "markdown",
   "metadata": {},
   "source": [
    "Defining derivative functions for Runge-Kutta method"
   ]
  },
  {
   "cell_type": "code",
   "execution_count": null,
   "metadata": {
    "collapsed": true
   },
   "outputs": [],
   "source": [
    "def f(b, a):\n",
    "        \n",
    "    q = np.empty((6,))\n",
    "    q[0] = a[3]\n",
    "    q[1] = a[4]\n",
    "    q[2] = a[5]\n",
    "    q[3] = delta * (b['bz']*a[4] - b['by']*a[5])\n",
    "    q[4] = delta * (b['bx']*a[5] - b['bz']*a[3])\n",
    "    q[5] = delta * (b['by']*a[3] - b['bx']*a[4]) \n",
    "    \n",
    "    return q"
   ]
  },
  {
   "cell_type": "markdown",
   "metadata": {},
   "source": [
    "Defining Runge-Kutta method"
   ]
  },
  {
   "cell_type": "code",
   "execution_count": null,
   "metadata": {
    "collapsed": false
   },
   "outputs": [],
   "source": [
    "def RK4_Inv(f, a0):\n",
    "    Cy = a0[4]  + delta*bn*a0[0] - delta**2 * bx0 * log( cosh( a0[2] / delta ))\n",
    "    a0[0] = a0[0] - Cy / (bn*delta) #shift of coordinates    \n",
    "    \n",
    "    \n",
    "    RK = a0.reshape((1, 6)) #trajectory array\n",
    "    times = [0.0] #array with times\n",
    "    Poinc = np.zeros((pcountmax, 2)) #array with found poincare points for the current particle\n",
    "    ZeroIndices = [] #indices of poincare points in trajectory array\n",
    "    ZeroVz = [] #indices of the points with null Vz speed\n",
    "    \n",
    "    en0 = (a0[3]**2 + a0[4]**2 + a0[5]**2)**0.5 #initial energy equals 1.0\n",
    "    \n",
    "    t = 0.0 #initial time\n",
    "    i = 0 #current trajectory point\n",
    "    idiv = 0 #number of times division dt/2 was used        \n",
    "    pcount = 0 #number of found points suitable for Poincare section\n",
    "    toofar = False #whether the particle is too far from the layer\n",
    "    \n",
    "    \n",
    "    OldRK = a0    \n",
    "       \n",
    "    while t < tfinal:\n",
    "        \n",
    "        ##==============Runge-Kutta step===============\n",
    "        \n",
    "        dt = dt0\n",
    "        for s in range(100):  \n",
    "            \n",
    "            b = Field(OldRK[0], OldRK[1], OldRK[2])\n",
    "            k1 = dt * f(b, OldRK)\n",
    "            \n",
    "            b = Field(OldRK[0] + 0.5*k1[0], OldRK[1] + 0.5*k1[1], OldRK[2] + 0.5*k1[2])\n",
    "            k2 = dt * f(b, OldRK + 0.5*k1)\n",
    "            \n",
    "            b = Field(OldRK[0] + 0.5*k2[0], OldRK[1] + 0.5*k2[1], OldRK[2] + 0.5*k2[2])\n",
    "            k3 = dt * f(b, OldRK + 0.5*k2) \n",
    "            \n",
    "            b = Field(OldRK[0] + k3[0], OldRK[1] + k3[1], OldRK[2] + k3[2])\n",
    "            k4 = dt * f(b, OldRK + k3) \n",
    "            \n",
    "            NewRK = OldRK + ( k1 + 2.0 * ( k2 + k3 ) + k4 ) / 6.0\n",
    "            en = (NewRK[3]**2 + NewRK[4]**2 + NewRK[5]**2)**0.5\n",
    "            \n",
    "            if abs(en - en0) < eps: #energy conservation control\n",
    "                break  \n",
    "            dt = dt / 2.0\n",
    "            idiv +=1\n",
    "            \n",
    "        RK = np.vstack((RK, NewRK)) #adding new line to trajectory array\n",
    "        t +=dt\n",
    "        times.append(t)\n",
    "        \n",
    "        \n",
    "        if OldRK[5] * NewRK[5] < 0: #Vz speed sign change condition\n",
    "            ZeroVz.append(i)\n",
    "            \n",
    "        ##=================== Poincare==================\n",
    "        \n",
    "        if OldRK[2] * NewRK[2] < 0: #z coordinate sign change condition\n",
    "            \n",
    "            ZeroIndices.append(i)\n",
    "            \n",
    "            if pcount < pcountmax:        \n",
    "                                    \n",
    "                #linear approximation of bn*delta*(x)\n",
    "                Poinc[pcount, 0] = bn * delta * (OldRK[0] + OldRK[2] * (NewRK[0] - OldRK[0]) / \\\n",
    "                                                 (OldRK[2] - NewRK[2]))\n",
    "                \n",
    "                #linear approximation of Vx\n",
    "                Poinc[pcount, 1] = OldRK[3] + OldRK[2] * (NewRK[3] - OldRK[3]) / (OldRK[2] - NewRK[2])\n",
    "                                    \n",
    "                pcount +=1\n",
    "        \n",
    "        ##============cycle break conditions============\n",
    "                \n",
    "        if pcount == pcountmax:\n",
    "            break\n",
    "            \n",
    "        if abs(NewRK[2] / a02) > toofarcondition: #particle too far from the layer\n",
    "            toofar = True\n",
    "            break\n",
    "        \n",
    "        if len(ZeroIndices) >= 2 and ( len([ind for ind in ZeroVz if ind > ZeroIndices[-1]]) >= 2 \\\n",
    "                                      or len([ind for ind in ZeroVz if ind > ZeroIndices[-2] and ind <= ZeroIndices[-1]]) >= 2):\n",
    "            break #one serpentine mode is over      \n",
    "        \n",
    "        if len(ZeroIndices) == 1 and len([ind for ind in ZeroVz if ind > ZeroIndices[-1]]) >= 2:\n",
    "            break #only one intersection with the neutral sheet occured, and we let the invariant stabilize      \n",
    "     \n",
    "        ##==============================================\n",
    "        \n",
    "        OldRK = NewRK\n",
    "        i +=1\n",
    "    \n",
    "    length = len(times)\n",
    "    times = np.asarray(times).reshape((length, 1))\n",
    "    RKt = np.hstack((RK, times)) #array with Runge-Kutta results and times\n",
    "       \n",
    "    \n",
    "    print 'p =', p\n",
    "    print 'Initial approximation (x0, y0, z0, Vx0, Vy0, Vz0) = (', round(a0[0], 5), ',', round(a0[1], 5), ',', round(a0[2], 5), \\\n",
    "          ',', round(a0[3], 5), ',', round(a0[4], 5), ',', round(a0[5], 5), ')'\n",
    "    print 'Particle too far from the layer =', toofar\n",
    "    print 'Initial energy =', en0, ', final energy =', en\n",
    "    print 'Time =', t, ', Total calculated points =', i+1\n",
    "    print 'Total Poincare points =', len(ZeroIndices), '/', pcountmax\n",
    "    #print 'Number of times division dt/2 was used =', idiv\n",
    "    print '\\n'\n",
    "   \n",
    "    return RKt, Poinc, ZeroIndices, ZeroVz"
   ]
  },
  {
   "cell_type": "markdown",
   "metadata": {},
   "source": [
    "Function returning invariant for all trajectory points"
   ]
  },
  {
   "cell_type": "code",
   "execution_count": 1,
   "metadata": {
    "collapsed": true
   },
   "outputs": [],
   "source": [
    "def Iz(Vx, x):\n",
    "    \n",
    "    zplus = delta * acosh( exp( ( (1.0 - Vx**2)**0.5 + delta*bn*x) / (bx0 * delta**2) ))\n",
    "\n",
    "    power = ( -(1.0 - Vx**2)**0.5 + delta*bn*x) / (bx0 * delta**2)\n",
    "    if power < 0.0:\n",
    "        zminus = 0.0\n",
    "        integr = quad(lambda z: (1.0 - Vx**2 - ( - delta*bn*x + delta**2 * bx0 * log( cosh( z / delta )))**2  )**0.5, \\\n",
    "                  zminus, zplus) #integration\n",
    "        return integr[0] \n",
    "    else:\n",
    "        zminus = delta * acosh( exp( power ))\n",
    "        integr = quad(lambda z: (1.0 - Vx**2 - ( - delta*bn*x + delta**2 * bx0 * log( cosh( z / delta )))**2  )**0.5, \\\n",
    "                  zminus, zplus) #integration\n",
    "        return integr[0]"
   ]
  },
  {
   "cell_type": "code",
   "execution_count": null,
   "metadata": {
    "collapsed": true
   },
   "outputs": [],
   "source": [
    "def Invar(RKt):\n",
    "    Inv = np.zeros((RKt.shape[0], 1))\n",
    "    for i in range(RKt.shape[0]):\n",
    "        Inv[i, 0] = 2.0 * Iz(RKt[i, 3], RKt[i, 0])\n",
    "    return Inv"
   ]
  },
  {
   "cell_type": "markdown",
   "metadata": {},
   "source": [
    "Function returning array with invariant surges"
   ]
  },
  {
   "cell_type": "code",
   "execution_count": null,
   "metadata": {
    "collapsed": false
   },
   "outputs": [],
   "source": [
    "def SurgeFunction(ZeroIndices, ZeroVz, Invariant, RKt):\n",
    "    result = []\n",
    "    zi1zi2 = []\n",
    "    if len(ZeroIndices) == 0:\n",
    "        return result, zi1zi2\n",
    "    else:\n",
    "        zi1 = ZeroIndices[0]        \n",
    "        if len(ZeroIndices) == 1:\n",
    "            zi2 = Invariant.shape[0] - 1\n",
    "        else:                        \n",
    "            for k in range(1, len(ZeroIndices)):\n",
    "                        \n",
    "                Serpentine = True\n",
    "                \n",
    "                if len([ind for ind in ZeroVz if ind > ZeroIndices[k-1] and ind <= ZeroIndices[k]]) >= 2:\n",
    "                    Serpentine = False\n",
    "                \n",
    "                if not Serpentine:\n",
    "                    break\n",
    "                \n",
    "            if Serpentine:\n",
    "                zi2 = ZeroIndices[k]\n",
    "            elif k == 1:\n",
    "                zi2 = ZeroIndices[1]\n",
    "            else:\n",
    "                zi2 = ZeroIndices[k-1]\n",
    "            \n",
    "        mean1 = np.mean(Invariant[0 : zi1]) \n",
    "        mean2 = np.mean(Invariant[zi1 : zi2])\n",
    "        \n",
    "        result.append((mean2 - mean1) / mean1)\n",
    "        \n",
    "        zi1zi2.append(zi1)\n",
    "        zi1zi2.append(zi2)\n",
    "               \n",
    "        return result, zi1zi2"
   ]
  },
  {
   "cell_type": "markdown",
   "metadata": {},
   "source": [
    "Angle setting for Invariant calculations"
   ]
  },
  {
   "cell_type": "code",
   "execution_count": null,
   "metadata": {
    "collapsed": true
   },
   "outputs": [],
   "source": [
    "def InitialConditions(a02, phase, pitch):\n",
    "        \n",
    "    b = Field(0, 0, a02)\n",
    "\n",
    "    if b['bx'] == 0 and b['by'] == 0:\n",
    "        alpha = (pi / 2)\n",
    "    else:\n",
    "        alpha = atan(b['bz'] / (b['bx']**2 + b['by']**2)**0.5)  \n",
    "\n",
    "    if b['bx'] == 0:\n",
    "        gamma = (pi / 2) * sign(b['by'])\n",
    "    elif b['bx'] > 0:\n",
    "        gamma = atan(b['by'] / b['bx']) \n",
    "    else: \n",
    "        gamma = pi + atan(b['by'] / b['bx'])\n",
    "        \n",
    "    phi = (2.0 * pi) * (phase * 1.0) / maxphase\n",
    "    \n",
    "    theta = 0.2 + 1.3 * (pitch * 1.0) / maxpitch\n",
    "    \n",
    "    \n",
    "    \n",
    "    if a02 > 0.0:\n",
    "        theta = pi - theta #so that the particle moves towards the neutral sheet\n",
    "    \n",
    "    print 'phi =', round(phi, 3), ', theta =', round(theta, 3)\n",
    "    \n",
    "    a03 = (-sin(theta) * sin(alpha) * cos(phi) + cos(theta) * cos(alpha)) * cos(gamma) - \\\n",
    "        (sin(theta) * sin(phi)) * sin(gamma)\n",
    "    a04 = (-sin(theta) * sin(alpha) * cos(phi) + cos(theta) * cos(alpha)) * sin(gamma) + \\\n",
    "        (sin(theta) * sin(phi)) * cos(gamma)\n",
    "    a05 = cos(theta) * sin(alpha) + sin(theta) * cos(alpha) * cos(phi)\n",
    "\n",
    "        \n",
    "    a0 = np.array([a00, a01, a02, a03, a04, a05])\n",
    "    \n",
    "    return a0    "
   ]
  },
  {
   "cell_type": "markdown",
   "metadata": {},
   "source": [
    "Setting"
   ]
  },
  {
   "cell_type": "code",
   "execution_count": null,
   "metadata": {
    "collapsed": true
   },
   "outputs": [],
   "source": [
    "root = r'C:\\Users\\syber\\Syber Python\\Trial'"
   ]
  },
  {
   "cell_type": "code",
   "execution_count": null,
   "metadata": {
    "collapsed": true
   },
   "outputs": [],
   "source": [
    "dt0 = 0.01\n",
    "tfinal = 1200.0\n",
    "toofarcondition = 2.0 #condition of whether the particle is too far from the layer\n",
    "pcountmax = 19 # maximum Poincare points, should be odd\n",
    "maxphase = 10 #number of different pitch angles\n",
    "maxpitch = 11 #number of different phases + 1\n",
    "pmax = maxphase * (maxpitch - 1)\n",
    "\n",
    "a00 = 0.0\n",
    "a01 = 0.0  "
   ]
  },
  {
   "cell_type": "markdown",
   "metadata": {},
   "source": [
    "## One particle"
   ]
  },
  {
   "cell_type": "code",
   "execution_count": null,
   "metadata": {
    "collapsed": false,
    "scrolled": true
   },
   "outputs": [],
   "source": [
    "fieldtype = 'constant'\n",
    "#fieldtype = 'bell'\n",
    "#fieldtype = 'antisymm'\n",
    "#fieldtype = 'shearless'\n",
    "bx0 = 1    \n",
    "by0 = 0.5\n",
    "bn = 0.10\n",
    "\n",
    "folder = r'%s\\%s\\by=%.2fbx\\bn=%.2fbx\\North' %(root, fieldtype, by0, bn)\n",
    "os.makedirs(folder)\n",
    "\n",
    "norm = (bx0**2 + by0**2 + bn**2)**0.5\n",
    "bx0 = bx0 / norm\n",
    "by0 = by0 / norm\n",
    "bn = bn / norm\n",
    "\n",
    "a02 = 5.0\n",
    "    \n",
    "logfile1 = open(r'%s\\parameters.txt' %(folder), 'w')\n",
    "logfile1.write('Field type = %s\\nbx0 = %g\\nby0 = %g\\nbn = %g\\n\\ndelta = %g\\ndt0 = %g\\ntfinal = %g\\npcountmax = %g\\n\\n' \\\n",
    "              %(fieldtype, bx0, by0, bn, delta, dt0, tfinal, pcountmax))\n",
    "logfile1.write('maxphase = %g\\nmaxpitch = %g\\n' \\\n",
    "              %(maxphase, maxpitch))\n",
    "logfile1.write('number of particles = %g\\n\\n' %(pmax)) \n",
    "logfile1.close()  \n",
    "\n",
    "phase = 0\n",
    "pitch = 1\n",
    "\n",
    "p = phase * (maxpitch - 1) + pitch - 1\n",
    "\n",
    "a0 = InitialConditions(a02, phase, pitch)\n",
    "\n",
    "RKt, Poinc, ZeroIndices, ZeroVz = RK4_Inv(f, a0)\n",
    "\n",
    "Invariant = Invar(RKt)\n",
    "SurgeNum, zi1zi2 = SurgeFunction(ZeroIndices, ZeroVz, Invariant, RKt)\n",
    "\n",
    "np.savetxt(r'%s\\Trajectory_%d.txt' %(folder, p), \\\n",
    "                   RKt, ['%.4g','%.4g','%.4g','%.4g','%.4g','%.4g','%g',], delimiter=',')  \n",
    "np.savetxt(r'%s\\Poinc_%d.txt' %(folder, p), \\\n",
    "                   Poinc, '%.3g', delimiter=',')\n",
    "np.savetxt(r'%s\\Invariant_%d.txt' %(folder, p), \\\n",
    "                   Invariant, '%.4g', delimiter=',')\n",
    "\n",
    "indicesfile0 = open(r'%s\\ZeroVz_%d.txt' %(folder, p), 'w')\n",
    "for i in ZeroVz: \n",
    "    indicesfile0.write('%s\\n' %i)    \n",
    "indicesfile0.close()     \n",
    "    \n",
    "indicesfile = open(r'%s\\ZeroIndices_%d.txt' %(folder, p), 'w')\n",
    "for i in ZeroIndices: \n",
    "    indicesfile.write('%s\\n' %i)    \n",
    "indicesfile.close()\n",
    "\n",
    "indfile = open(r'%s\\zi1zi2_%d.txt' %(folder, p), 'w')\n",
    "for i in zi1zi2: \n",
    "    indfile.write('%s\\n' %i)    \n",
    "indfile.close()\n",
    "\n",
    "SurgeNum = np.array(SurgeNum)\n",
    "print 'Surge: ', SurgeNum[0]\n",
    "\n",
    "np.savetxt(r'%s\\SurgeNum_%d.txt' %(folder, p), SurgeNum, '%g', delimiter=',')"
   ]
  },
  {
   "cell_type": "markdown",
   "metadata": {},
   "source": [
    "## Multiple particles (with invariant)"
   ]
  },
  {
   "cell_type": "code",
   "execution_count": null,
   "metadata": {
    "collapsed": false,
    "scrolled": false
   },
   "outputs": [],
   "source": [
    "for fieldtype in ['shearless', 'antisymm']:\n",
    "    if fieldtype == 'shearless':\n",
    "        by0s = [0.0]\n",
    "    else:\n",
    "        by0s = [0.25, 0.5, 0.75, 1]\n",
    "    for by0 in by0s:\n",
    "        theby0 = by0\n",
    "        for bn in [0.02, 0.06, 0.1, 0.2]:\n",
    "            \n",
    "            bx0 = 1   \n",
    "            by0 = theby0\n",
    "            thebn = bn\n",
    "\n",
    "            folder = r'%s\\%s\\by=%.2fbx\\bn=%.2fbx\\North' %(root, fieldtype, by0, bn)\n",
    "            os.makedirs(folder)\n",
    "\n",
    "            norm = (bx0**2 + by0**2 + bn**2)**0.5\n",
    "            bx0 = bx0 / norm\n",
    "            by0 = by0 / norm\n",
    "            bn = bn / norm\n",
    "\n",
    "            a02 = 5.0\n",
    "\n",
    "            logfile1 = open(r'%s\\parameters.txt' %(folder), 'w')\n",
    "            logfile1.write('Field type = %s\\nbx0 = %g\\nby0 = %g\\nbn = %g\\n\\ndelta = %g\\ndt0 = %g\\ntfinal = %g\\npcountmax = %g\\n\\n' \\\n",
    "                          %(fieldtype, bx0, by0, bn, delta, dt0, tfinal, pcountmax))\n",
    "            logfile1.write('maxphase = %g\\nmaxpitch = %g\\n' \\\n",
    "                          %(maxphase, maxpitch))\n",
    "            logfile1.write('number of particles = %g\\n\\n' %(pmax)) \n",
    "            logfile1.close() \n",
    "\n",
    "            Poincare = np.zeros((pcountmax, 2*pmax))\n",
    "\n",
    "            AllSurgesNum = []\n",
    "\n",
    "            p = -1\n",
    "\n",
    "            for phase in range(maxphase):\n",
    "                for pitch in range(1, maxpitch):\n",
    "                    p +=1 \n",
    "\n",
    "                    print 'phase =', phase, ', pitch =', pitch\n",
    "                    a0 = InitialConditions(a02, phase, pitch)        \n",
    "\n",
    "                    RKt, Poinc, ZeroIndices, ZeroVz = RK4_Inv(f, a0)\n",
    "\n",
    "                    Invariant = Invar(RKt)\n",
    "\n",
    "                    SurgeNum, zi1zi2 = SurgeFunction(ZeroIndices, ZeroVz, Invariant, RKt)  \n",
    "\n",
    "                    AllSurgesNum.extend(SurgeNum)\n",
    "\n",
    "                    Poincare[:, 2*p] = Poinc[:, 0]\n",
    "                    Poincare[:, 2*p + 1] = Poinc[:, 1] \n",
    "\n",
    "                    #np.savetxt(r'%s\\Trajectory_%d.txt' %(folder, p), \\\n",
    "                               #RKt, ['%.4g','%.4g','%.4g','%.4g','%.4g','%.4g','%g',], delimiter=',') \n",
    "\n",
    "                    #indicesfile0 = open(r'%s\\ZeroVz_%d.txt' %(folder, p), 'w')\n",
    "                    #for i in ZeroVz: \n",
    "                        #indicesfile0.write('%s\\n' %i)    \n",
    "                    #indicesfile0.close()   \n",
    "\n",
    "                    #indicesfile = open(r'%s\\ZeroIndices_%d.txt' %(folder, p), 'w')\n",
    "                    #for i in ZeroIndices: \n",
    "                        #indicesfile.write('%s\\n' %i)    \n",
    "                    #indicesfile.close() \n",
    "\n",
    "                    #indfile = open(r'%s\\zi1zi2_%d.txt' %(folder, p), 'w')\n",
    "                    #for i in zi1zi2: \n",
    "                        #indfile.write('%s\\n' %i)    \n",
    "                    #indfile.close()\n",
    "\n",
    "\n",
    "                    #np.savetxt(r'%s\\InvariantNum_%d.txt' %(folder, p), \\\n",
    "                               #InvariantNum, '%.4g', delimiter=',')\n",
    "\n",
    "                    #np.savetxt(r'%s\\Poinc_%d.txt' %(folder, p), \\\n",
    "                               #Poinc, '%.3g', delimiter=',')\n",
    "\n",
    "\n",
    "            AllSurgesNum = np.array(AllSurgesNum)\n",
    "\n",
    "            print 'Surges Numerical. Mean: ', np.mean(AllSurgesNum), '. Mean of **2:', np.mean(AllSurgesNum**2)\n",
    "\n",
    "            np.savetxt(r'%s\\Poincare.txt' %(folder), Poincare, '%.3g', delimiter=',')\n",
    "            np.savetxt(r'%s\\AllSurgesNum.txt' %(folder), AllSurgesNum, '%g', delimiter=',')\n",
    "\n",
    "            logfile3 = open(r'%s\\meansnum.txt' %(folder), 'w')\n",
    "            logfile3.write('%g,%g,%g,%g,%g' %(thebn, np.mean(AllSurgesNum), np.mean(AllSurgesNum**2), log(thebn), log(np.mean(AllSurgesNum**2))))\n",
    "            logfile3.close()\n",
    "\n",
    "            logfile4 = open(r'%s\\log.txt' %(folder), 'w')\n",
    "            logfile4.close()"
   ]
  },
  {
   "cell_type": "markdown",
   "metadata": {
    "collapsed": true
   },
   "source": [
    "p = phase * (maxpitch - 1) + pitch - 1"
   ]
  }
 ],
 "metadata": {
  "kernelspec": {
   "display_name": "Python 2",
   "language": "python",
   "name": "python2"
  },
  "language_info": {
   "codemirror_mode": {
    "name": "ipython",
    "version": 2
   },
   "file_extension": ".py",
   "mimetype": "text/x-python",
   "name": "python",
   "nbconvert_exporter": "python",
   "pygments_lexer": "ipython2",
   "version": "2.7.11"
  }
 },
 "nbformat": 4,
 "nbformat_minor": 0
}
